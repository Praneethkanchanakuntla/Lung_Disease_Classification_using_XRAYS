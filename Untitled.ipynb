{
 "cells": [
  {
   "cell_type": "code",
   "execution_count": 1,
   "id": "022d6c2a",
   "metadata": {},
   "outputs": [],
   "source": [
    "from tensorflow.keras.layers import Input, Lambda, Dense, Flatten,Conv2D\n",
    "from tensorflow.keras.models import Model\n",
    "from tensorflow.keras.applications.vgg19 import VGG19\n",
    "from tensorflow.keras.applications.resnet50 import preprocess_input\n",
    "from tensorflow.keras.preprocessing import image\n",
    "from tensorflow.keras.preprocessing.image import ImageDataGenerator,load_img\n",
    "from tensorflow.keras.models import Sequential\n",
    "import numpy as np\n",
    "from glob import glob\n",
    "import matplotlib.pyplot as plt"
   ]
  },
  {
   "cell_type": "code",
   "execution_count": 2,
   "id": "ce54a36e",
   "metadata": {},
   "outputs": [],
   "source": [
    "# re-size all the images to this\n",
    "IMAGE_SIZE = [224, 224]\n",
    "\n",
    "train_path = 'training_dataset'\n",
    "valid_path = 'testing_dataset'"
   ]
  },
  {
   "cell_type": "code",
   "execution_count": 3,
   "id": "0fec1936",
   "metadata": {},
   "outputs": [],
   "source": [
    "mobilnet = VGG19(input_shape=IMAGE_SIZE + [3], weights='imagenet', include_top=False)\n"
   ]
  },
  {
   "cell_type": "code",
   "execution_count": 4,
   "id": "10947570",
   "metadata": {},
   "outputs": [],
   "source": [
    "for layer in mobilnet.layers:\n",
    "    layer.trainable = False"
   ]
  },
  {
   "cell_type": "code",
   "execution_count": 5,
   "id": "9a5c95e4",
   "metadata": {},
   "outputs": [],
   "source": [
    "folders = glob('Training_dataset/*')"
   ]
  },
  {
   "cell_type": "code",
   "execution_count": 6,
   "id": "86cdfd2a",
   "metadata": {},
   "outputs": [
    {
     "data": {
      "text/plain": [
       "['Training_dataset\\\\infected', 'Training_dataset\\\\uninfected']"
      ]
     },
     "execution_count": 6,
     "metadata": {},
     "output_type": "execute_result"
    }
   ],
   "source": [
    "folders"
   ]
  },
  {
   "cell_type": "code",
   "execution_count": 7,
   "id": "acd5eb4b",
   "metadata": {},
   "outputs": [],
   "source": [
    "x = Flatten()(mobilnet.output)"
   ]
  },
  {
   "cell_type": "code",
   "execution_count": 8,
   "id": "4632bdc3",
   "metadata": {},
   "outputs": [],
   "source": [
    "prediction = Dense(len(folders), activation='softmax')(x)\n",
    "\n",
    "# create a model object\n",
    "model = Model(inputs=mobilnet.input, outputs=prediction)"
   ]
  },
  {
   "cell_type": "code",
   "execution_count": 9,
   "id": "d8601c1a",
   "metadata": {},
   "outputs": [
    {
     "name": "stdout",
     "output_type": "stream",
     "text": [
      "Model: \"model\"\n",
      "_________________________________________________________________\n",
      " Layer (type)                Output Shape              Param #   \n",
      "=================================================================\n",
      " input_1 (InputLayer)        [(None, 224, 224, 3)]     0         \n",
      "                                                                 \n",
      " block1_conv1 (Conv2D)       (None, 224, 224, 64)      1792      \n",
      "                                                                 \n",
      " block1_conv2 (Conv2D)       (None, 224, 224, 64)      36928     \n",
      "                                                                 \n",
      " block1_pool (MaxPooling2D)  (None, 112, 112, 64)      0         \n",
      "                                                                 \n",
      " block2_conv1 (Conv2D)       (None, 112, 112, 128)     73856     \n",
      "                                                                 \n",
      " block2_conv2 (Conv2D)       (None, 112, 112, 128)     147584    \n",
      "                                                                 \n",
      " block2_pool (MaxPooling2D)  (None, 56, 56, 128)       0         \n",
      "                                                                 \n",
      " block3_conv1 (Conv2D)       (None, 56, 56, 256)       295168    \n",
      "                                                                 \n",
      " block3_conv2 (Conv2D)       (None, 56, 56, 256)       590080    \n",
      "                                                                 \n",
      " block3_conv3 (Conv2D)       (None, 56, 56, 256)       590080    \n",
      "                                                                 \n",
      " block3_conv4 (Conv2D)       (None, 56, 56, 256)       590080    \n",
      "                                                                 \n",
      " block3_pool (MaxPooling2D)  (None, 28, 28, 256)       0         \n",
      "                                                                 \n",
      " block4_conv1 (Conv2D)       (None, 28, 28, 512)       1180160   \n",
      "                                                                 \n",
      " block4_conv2 (Conv2D)       (None, 28, 28, 512)       2359808   \n",
      "                                                                 \n",
      " block4_conv3 (Conv2D)       (None, 28, 28, 512)       2359808   \n",
      "                                                                 \n",
      " block4_conv4 (Conv2D)       (None, 28, 28, 512)       2359808   \n",
      "                                                                 \n",
      " block4_pool (MaxPooling2D)  (None, 14, 14, 512)       0         \n",
      "                                                                 \n",
      " block5_conv1 (Conv2D)       (None, 14, 14, 512)       2359808   \n",
      "                                                                 \n",
      " block5_conv2 (Conv2D)       (None, 14, 14, 512)       2359808   \n",
      "                                                                 \n",
      " block5_conv3 (Conv2D)       (None, 14, 14, 512)       2359808   \n",
      "                                                                 \n",
      " block5_conv4 (Conv2D)       (None, 14, 14, 512)       2359808   \n",
      "                                                                 \n",
      " block5_pool (MaxPooling2D)  (None, 7, 7, 512)         0         \n",
      "                                                                 \n",
      " flatten (Flatten)           (None, 25088)             0         \n",
      "                                                                 \n",
      " dense (Dense)               (None, 2)                 50178     \n",
      "                                                                 \n",
      "=================================================================\n",
      "Total params: 20,074,562\n",
      "Trainable params: 50,178\n",
      "Non-trainable params: 20,024,384\n",
      "_________________________________________________________________\n"
     ]
    }
   ],
   "source": [
    "model.summary()"
   ]
  },
  {
   "cell_type": "code",
   "execution_count": 10,
   "id": "4721797d",
   "metadata": {},
   "outputs": [],
   "source": [
    "from tensorflow.keras.layers import MaxPooling2D"
   ]
  },
  {
   "cell_type": "code",
   "execution_count": 11,
   "id": "c559c366",
   "metadata": {},
   "outputs": [
    {
     "name": "stdout",
     "output_type": "stream",
     "text": [
      "Model: \"sequential\"\n",
      "_________________________________________________________________\n",
      " Layer (type)                Output Shape              Param #   \n",
      "=================================================================\n",
      " conv2d (Conv2D)             (None, 224, 224, 16)      208       \n",
      "                                                                 \n",
      " max_pooling2d (MaxPooling2D  (None, 112, 112, 16)     0         \n",
      " )                                                               \n",
      "                                                                 \n",
      " conv2d_1 (Conv2D)           (None, 112, 112, 32)      2080      \n",
      "                                                                 \n",
      " max_pooling2d_1 (MaxPooling  (None, 56, 56, 32)       0         \n",
      " 2D)                                                             \n",
      "                                                                 \n",
      " conv2d_2 (Conv2D)           (None, 56, 56, 64)        8256      \n",
      "                                                                 \n",
      " max_pooling2d_2 (MaxPooling  (None, 28, 28, 64)       0         \n",
      " 2D)                                                             \n",
      "                                                                 \n",
      " flatten_1 (Flatten)         (None, 50176)             0         \n",
      "                                                                 \n",
      " dense_1 (Dense)             (None, 500)               25088500  \n",
      "                                                                 \n",
      " dense_2 (Dense)             (None, 2)                 1002      \n",
      "                                                                 \n",
      "=================================================================\n",
      "Total params: 25,100,046\n",
      "Trainable params: 25,100,046\n",
      "Non-trainable params: 0\n",
      "_________________________________________________________________\n"
     ]
    }
   ],
   "source": [
    "model=Sequential()\n",
    "model.add(Conv2D(filters=16,kernel_size=2,padding=\"same\",activation=\"relu\",input_shape=(224,224,3)))\n",
    "model.add(MaxPooling2D(pool_size=2))\n",
    "model.add(Conv2D(filters=32,kernel_size=2,padding=\"same\",activation =\"relu\"))\n",
    "model.add(MaxPooling2D(pool_size=2))\n",
    "model.add(Conv2D(filters=64,kernel_size=2,padding=\"same\",activation=\"relu\"))\n",
    "model.add(MaxPooling2D(pool_size=2))\n",
    "model.add(Flatten())\n",
    "model.add(Dense(500,activation=\"relu\"))\n",
    "model.add(Dense(2,activation=\"softmax\"))\n",
    "model.summary()"
   ]
  },
  {
   "cell_type": "code",
   "execution_count": 12,
   "id": "b7f90403",
   "metadata": {},
   "outputs": [],
   "source": [
    "model.compile(\n",
    "  loss='categorical_crossentropy',\n",
    "  optimizer='adam',\n",
    "  metrics=['accuracy']\n",
    ")\n"
   ]
  },
  {
   "cell_type": "code",
   "execution_count": 13,
   "id": "815e3afc",
   "metadata": {},
   "outputs": [],
   "source": [
    "from tensorflow.keras.preprocessing.image import ImageDataGenerator\n",
    "\n",
    "train_datagen = ImageDataGenerator(rescale = 1./255,\n",
    "                                   shear_range = 0.2,\n",
    "                                   zoom_range = 0.2,\n",
    "                                   horizontal_flip = True)\n",
    "\n",
    "test_datagen = ImageDataGenerator(rescale = 1./255)"
   ]
  },
  {
   "cell_type": "code",
   "execution_count": 14,
   "id": "7af25d0c",
   "metadata": {},
   "outputs": [
    {
     "name": "stdout",
     "output_type": "stream",
     "text": [
      "Found 200 images belonging to 2 classes.\n"
     ]
    }
   ],
   "source": [
    "training_set = train_datagen.flow_from_directory('Training_dataset',\n",
    "                                                 target_size = (224, 224),\n",
    "                                                 batch_size = 32,\n",
    "                                                 class_mode = 'categorical')"
   ]
  },
  {
   "cell_type": "code",
   "execution_count": 15,
   "id": "f3ad51b9",
   "metadata": {},
   "outputs": [
    {
     "data": {
      "text/plain": [
       "<keras.preprocessing.image.DirectoryIterator at 0x1817cf2f940>"
      ]
     },
     "execution_count": 15,
     "metadata": {},
     "output_type": "execute_result"
    }
   ],
   "source": [
    "training_set"
   ]
  },
  {
   "cell_type": "code",
   "execution_count": 16,
   "id": "bd3164c5",
   "metadata": {},
   "outputs": [
    {
     "name": "stdout",
     "output_type": "stream",
     "text": [
      "Found 200 images belonging to 2 classes.\n"
     ]
    }
   ],
   "source": [
    "test_set = test_datagen.flow_from_directory('Testing_dataset',\n",
    "                                            target_size = (224, 224),\n",
    "                                            batch_size = 32,\n",
    "                                            class_mode = 'categorical')"
   ]
  },
  {
   "cell_type": "code",
   "execution_count": 17,
   "id": "f740ae98",
   "metadata": {},
   "outputs": [
    {
     "name": "stderr",
     "output_type": "stream",
     "text": [
      "<ipython-input-17-9fcbda89373f>:1: UserWarning: `Model.fit_generator` is deprecated and will be removed in a future version. Please use `Model.fit`, which supports generators.\n",
      "  r = model.fit_generator(\n"
     ]
    },
    {
     "name": "stdout",
     "output_type": "stream",
     "text": [
      "Epoch 1/100\n",
      "7/7 [==============================] - 19s 3s/step - loss: 1.3996 - accuracy: 0.5400 - val_loss: 1.3220 - val_accuracy: 0.5000\n",
      "Epoch 2/100\n",
      "7/7 [==============================] - 11s 2s/step - loss: 0.7859 - accuracy: 0.5000 - val_loss: 0.7156 - val_accuracy: 0.5000\n",
      "Epoch 3/100\n",
      "7/7 [==============================] - 10s 2s/step - loss: 0.6986 - accuracy: 0.5450 - val_loss: 0.6893 - val_accuracy: 0.5900\n",
      "Epoch 4/100\n",
      "7/7 [==============================] - 12s 2s/step - loss: 0.6929 - accuracy: 0.5150 - val_loss: 0.6915 - val_accuracy: 0.5100\n",
      "Epoch 5/100\n",
      "7/7 [==============================] - 11s 2s/step - loss: 0.6879 - accuracy: 0.5650 - val_loss: 0.6974 - val_accuracy: 0.4700\n",
      "Epoch 6/100\n",
      "7/7 [==============================] - 13s 2s/step - loss: 0.6860 - accuracy: 0.5150 - val_loss: 0.7002 - val_accuracy: 0.4950\n",
      "Epoch 7/100\n",
      "7/7 [==============================] - 10s 1s/step - loss: 0.6875 - accuracy: 0.5300 - val_loss: 0.6938 - val_accuracy: 0.5000\n",
      "Epoch 8/100\n",
      "7/7 [==============================] - 11s 2s/step - loss: 0.6789 - accuracy: 0.5600 - val_loss: 0.6968 - val_accuracy: 0.5100\n",
      "Epoch 9/100\n",
      "7/7 [==============================] - 10s 2s/step - loss: 0.6786 - accuracy: 0.5600 - val_loss: 0.6917 - val_accuracy: 0.5200\n",
      "Epoch 10/100\n",
      "7/7 [==============================] - 11s 2s/step - loss: 0.6844 - accuracy: 0.5750 - val_loss: 0.6999 - val_accuracy: 0.5100\n",
      "Epoch 11/100\n",
      "7/7 [==============================] - 11s 2s/step - loss: 0.6764 - accuracy: 0.5750 - val_loss: 0.6871 - val_accuracy: 0.5500\n",
      "Epoch 12/100\n",
      "7/7 [==============================] - 12s 2s/step - loss: 0.6603 - accuracy: 0.5850 - val_loss: 0.6928 - val_accuracy: 0.5600\n",
      "Epoch 13/100\n",
      "7/7 [==============================] - 11s 2s/step - loss: 0.6458 - accuracy: 0.6250 - val_loss: 0.7055 - val_accuracy: 0.5400\n",
      "Epoch 14/100\n",
      "7/7 [==============================] - 10s 1s/step - loss: 0.6508 - accuracy: 0.5950 - val_loss: 0.7111 - val_accuracy: 0.5650\n",
      "Epoch 15/100\n",
      "7/7 [==============================] - 12s 2s/step - loss: 0.6418 - accuracy: 0.6100 - val_loss: 0.7023 - val_accuracy: 0.5650\n",
      "Epoch 16/100\n",
      "7/7 [==============================] - 10s 1s/step - loss: 0.6404 - accuracy: 0.5750 - val_loss: 0.7070 - val_accuracy: 0.5300\n",
      "Epoch 17/100\n",
      "7/7 [==============================] - 9s 1s/step - loss: 0.6263 - accuracy: 0.6150 - val_loss: 0.7054 - val_accuracy: 0.5700\n",
      "Epoch 18/100\n",
      "7/7 [==============================] - 12s 2s/step - loss: 0.6304 - accuracy: 0.6300 - val_loss: 0.7095 - val_accuracy: 0.5550\n",
      "Epoch 19/100\n",
      "7/7 [==============================] - 10s 2s/step - loss: 0.6115 - accuracy: 0.6400 - val_loss: 0.7275 - val_accuracy: 0.5900\n",
      "Epoch 20/100\n",
      "7/7 [==============================] - 12s 2s/step - loss: 0.6144 - accuracy: 0.6450 - val_loss: 0.7385 - val_accuracy: 0.5750\n",
      "Epoch 21/100\n",
      "7/7 [==============================] - 11s 2s/step - loss: 0.5851 - accuracy: 0.6800 - val_loss: 0.8197 - val_accuracy: 0.5350\n",
      "Epoch 22/100\n",
      "7/7 [==============================] - 10s 2s/step - loss: 0.6389 - accuracy: 0.6650 - val_loss: 0.7390 - val_accuracy: 0.5300\n",
      "Epoch 23/100\n",
      "7/7 [==============================] - 10s 2s/step - loss: 0.5991 - accuracy: 0.6800 - val_loss: 0.7313 - val_accuracy: 0.5400\n",
      "Epoch 24/100\n",
      "7/7 [==============================] - 11s 2s/step - loss: 0.5941 - accuracy: 0.6650 - val_loss: 0.7360 - val_accuracy: 0.5550\n",
      "Epoch 25/100\n",
      "7/7 [==============================] - 11s 2s/step - loss: 0.5588 - accuracy: 0.6900 - val_loss: 0.7683 - val_accuracy: 0.5450\n",
      "Epoch 26/100\n",
      "7/7 [==============================] - 13s 2s/step - loss: 0.5575 - accuracy: 0.6800 - val_loss: 0.7904 - val_accuracy: 0.5650\n",
      "Epoch 27/100\n",
      "7/7 [==============================] - 11s 2s/step - loss: 0.5615 - accuracy: 0.7250 - val_loss: 0.8673 - val_accuracy: 0.5450\n",
      "Epoch 28/100\n",
      "7/7 [==============================] - 13s 2s/step - loss: 0.5889 - accuracy: 0.7300 - val_loss: 0.7401 - val_accuracy: 0.5100\n",
      "Epoch 29/100\n",
      "7/7 [==============================] - 11s 2s/step - loss: 0.5752 - accuracy: 0.6800 - val_loss: 0.7363 - val_accuracy: 0.5650\n",
      "Epoch 30/100\n",
      "7/7 [==============================] - 11s 2s/step - loss: 0.5728 - accuracy: 0.7050 - val_loss: 0.7777 - val_accuracy: 0.5500\n",
      "Epoch 31/100\n",
      "7/7 [==============================] - 11s 2s/step - loss: 0.5370 - accuracy: 0.7100 - val_loss: 0.8156 - val_accuracy: 0.5450\n",
      "Epoch 32/100\n",
      "7/7 [==============================] - 10s 1s/step - loss: 0.4542 - accuracy: 0.8100 - val_loss: 0.8551 - val_accuracy: 0.5650\n",
      "Epoch 33/100\n",
      "7/7 [==============================] - 12s 2s/step - loss: 0.5846 - accuracy: 0.7200 - val_loss: 0.7941 - val_accuracy: 0.5600\n",
      "Epoch 34/100\n",
      "7/7 [==============================] - 12s 2s/step - loss: 0.4867 - accuracy: 0.7700 - val_loss: 0.7839 - val_accuracy: 0.5600\n",
      "Epoch 35/100\n",
      "7/7 [==============================] - 11s 2s/step - loss: 0.5468 - accuracy: 0.6950 - val_loss: 0.7927 - val_accuracy: 0.5650\n",
      "Epoch 36/100\n",
      "7/7 [==============================] - 11s 2s/step - loss: 0.5245 - accuracy: 0.7500 - val_loss: 0.7722 - val_accuracy: 0.6100\n",
      "Epoch 37/100\n",
      "7/7 [==============================] - 10s 2s/step - loss: 0.5852 - accuracy: 0.7000 - val_loss: 0.7747 - val_accuracy: 0.5950\n",
      "Epoch 38/100\n",
      "7/7 [==============================] - 9s 1s/step - loss: 0.5006 - accuracy: 0.7550 - val_loss: 0.7958 - val_accuracy: 0.5750\n",
      "Epoch 39/100\n",
      "7/7 [==============================] - 11s 2s/step - loss: 0.5072 - accuracy: 0.7100 - val_loss: 0.7878 - val_accuracy: 0.5750\n",
      "Epoch 40/100\n",
      "7/7 [==============================] - 10s 1s/step - loss: 0.5144 - accuracy: 0.7500 - val_loss: 0.8692 - val_accuracy: 0.5450\n",
      "Epoch 41/100\n",
      "7/7 [==============================] - 10s 1s/step - loss: 0.4994 - accuracy: 0.7400 - val_loss: 0.8272 - val_accuracy: 0.5950\n",
      "Epoch 42/100\n",
      "7/7 [==============================] - 12s 2s/step - loss: 0.5300 - accuracy: 0.7300 - val_loss: 0.8690 - val_accuracy: 0.5400\n",
      "Epoch 43/100\n",
      "7/7 [==============================] - 12s 2s/step - loss: 0.4820 - accuracy: 0.7250 - val_loss: 0.8099 - val_accuracy: 0.5650\n",
      "Epoch 44/100\n",
      "7/7 [==============================] - 10s 2s/step - loss: 0.4792 - accuracy: 0.7850 - val_loss: 0.8209 - val_accuracy: 0.5700\n",
      "Epoch 45/100\n",
      "7/7 [==============================] - 10s 1s/step - loss: 0.4634 - accuracy: 0.7550 - val_loss: 1.0414 - val_accuracy: 0.5500\n",
      "Epoch 46/100\n",
      "7/7 [==============================] - 10s 1s/step - loss: 0.5105 - accuracy: 0.7350 - val_loss: 0.8360 - val_accuracy: 0.5800\n",
      "Epoch 47/100\n",
      "7/7 [==============================] - 10s 1s/step - loss: 0.4766 - accuracy: 0.7600 - val_loss: 0.8509 - val_accuracy: 0.5450\n",
      "Epoch 48/100\n",
      "7/7 [==============================] - 10s 2s/step - loss: 0.4743 - accuracy: 0.7600 - val_loss: 0.8986 - val_accuracy: 0.5650\n",
      "Epoch 49/100\n",
      "7/7 [==============================] - 9s 1s/step - loss: 0.4798 - accuracy: 0.7400 - val_loss: 0.8974 - val_accuracy: 0.5700\n",
      "Epoch 50/100\n",
      "7/7 [==============================] - 9s 1s/step - loss: 0.4873 - accuracy: 0.7500 - val_loss: 0.8379 - val_accuracy: 0.5650\n",
      "Epoch 51/100\n",
      "7/7 [==============================] - 9s 1s/step - loss: 0.5335 - accuracy: 0.7250 - val_loss: 0.8349 - val_accuracy: 0.5550\n",
      "Epoch 52/100\n",
      "7/7 [==============================] - 9s 1s/step - loss: 0.4538 - accuracy: 0.7850 - val_loss: 0.8204 - val_accuracy: 0.5700\n",
      "Epoch 53/100\n",
      "7/7 [==============================] - 11s 2s/step - loss: 0.4322 - accuracy: 0.7750 - val_loss: 0.8528 - val_accuracy: 0.5450\n",
      "Epoch 54/100\n",
      "7/7 [==============================] - 10s 1s/step - loss: 0.4086 - accuracy: 0.8150 - val_loss: 0.8639 - val_accuracy: 0.5400\n",
      "Epoch 55/100\n",
      "7/7 [==============================] - 10s 1s/step - loss: 0.3949 - accuracy: 0.8450 - val_loss: 0.8822 - val_accuracy: 0.5750\n",
      "Epoch 56/100\n",
      "7/7 [==============================] - 12s 2s/step - loss: 0.4241 - accuracy: 0.7950 - val_loss: 1.0550 - val_accuracy: 0.5800\n",
      "Epoch 57/100\n",
      "7/7 [==============================] - 11s 2s/step - loss: 0.4282 - accuracy: 0.7750 - val_loss: 0.9345 - val_accuracy: 0.5650\n",
      "Epoch 58/100\n",
      "7/7 [==============================] - 10s 1s/step - loss: 0.4236 - accuracy: 0.8000 - val_loss: 0.9471 - val_accuracy: 0.5650\n",
      "Epoch 59/100\n"
     ]
    },
    {
     "name": "stdout",
     "output_type": "stream",
     "text": [
      "7/7 [==============================] - 10s 1s/step - loss: 0.3777 - accuracy: 0.8350 - val_loss: 0.9443 - val_accuracy: 0.5700\n",
      "Epoch 60/100\n",
      "7/7 [==============================] - 10s 1s/step - loss: 0.3886 - accuracy: 0.8100 - val_loss: 0.9545 - val_accuracy: 0.5550\n",
      "Epoch 61/100\n",
      "7/7 [==============================] - 10s 1s/step - loss: 0.3461 - accuracy: 0.8400 - val_loss: 1.0313 - val_accuracy: 0.5950\n",
      "Epoch 62/100\n",
      "7/7 [==============================] - 12s 2s/step - loss: 0.4309 - accuracy: 0.8050 - val_loss: 0.9593 - val_accuracy: 0.5500\n",
      "Epoch 63/100\n",
      "7/7 [==============================] - 10s 1s/step - loss: 0.3913 - accuracy: 0.8200 - val_loss: 0.9320 - val_accuracy: 0.5450\n",
      "Epoch 64/100\n",
      "7/7 [==============================] - 10s 1s/step - loss: 0.4024 - accuracy: 0.8000 - val_loss: 0.8685 - val_accuracy: 0.5950\n",
      "Epoch 65/100\n",
      "7/7 [==============================] - 11s 2s/step - loss: 0.3446 - accuracy: 0.8650 - val_loss: 0.9006 - val_accuracy: 0.5550\n",
      "Epoch 66/100\n",
      "7/7 [==============================] - 10s 2s/step - loss: 0.3809 - accuracy: 0.8400 - val_loss: 0.9865 - val_accuracy: 0.5400\n",
      "Epoch 67/100\n",
      "7/7 [==============================] - 10s 1s/step - loss: 0.3704 - accuracy: 0.8350 - val_loss: 0.9700 - val_accuracy: 0.5700\n",
      "Epoch 68/100\n",
      "7/7 [==============================] - 10s 1s/step - loss: 0.3045 - accuracy: 0.8850 - val_loss: 0.9708 - val_accuracy: 0.5900\n",
      "Epoch 69/100\n",
      "7/7 [==============================] - 10s 2s/step - loss: 0.3118 - accuracy: 0.8500 - val_loss: 1.1199 - val_accuracy: 0.5750\n",
      "Epoch 70/100\n",
      "7/7 [==============================] - 10s 1s/step - loss: 0.3726 - accuracy: 0.8300 - val_loss: 1.3754 - val_accuracy: 0.5900\n",
      "Epoch 71/100\n",
      "7/7 [==============================] - 11s 2s/step - loss: 0.4304 - accuracy: 0.8050 - val_loss: 0.9393 - val_accuracy: 0.5850\n",
      "Epoch 72/100\n",
      "7/7 [==============================] - 10s 1s/step - loss: 0.3509 - accuracy: 0.8200 - val_loss: 0.9056 - val_accuracy: 0.5700\n",
      "Epoch 73/100\n",
      "7/7 [==============================] - 11s 2s/step - loss: 0.3263 - accuracy: 0.8500 - val_loss: 1.0198 - val_accuracy: 0.5550\n",
      "Epoch 74/100\n",
      "7/7 [==============================] - 12s 2s/step - loss: 0.3479 - accuracy: 0.8150 - val_loss: 0.9278 - val_accuracy: 0.5800\n",
      "Epoch 75/100\n",
      "7/7 [==============================] - 10s 1s/step - loss: 0.4312 - accuracy: 0.7650 - val_loss: 0.9155 - val_accuracy: 0.5600\n",
      "Epoch 76/100\n",
      "7/7 [==============================] - 11s 2s/step - loss: 0.3615 - accuracy: 0.8450 - val_loss: 0.9721 - val_accuracy: 0.5750\n",
      "Epoch 77/100\n",
      "7/7 [==============================] - 12s 2s/step - loss: 0.2992 - accuracy: 0.8600 - val_loss: 1.0616 - val_accuracy: 0.5900\n",
      "Epoch 78/100\n",
      "7/7 [==============================] - 13s 2s/step - loss: 0.3384 - accuracy: 0.8250 - val_loss: 1.3372 - val_accuracy: 0.5800\n",
      "Epoch 79/100\n",
      "7/7 [==============================] - 12s 2s/step - loss: 0.3185 - accuracy: 0.8650 - val_loss: 1.0777 - val_accuracy: 0.5950\n",
      "Epoch 80/100\n",
      "7/7 [==============================] - 13s 2s/step - loss: 0.4476 - accuracy: 0.7800 - val_loss: 1.0463 - val_accuracy: 0.5450\n",
      "Epoch 81/100\n",
      "7/7 [==============================] - 12s 2s/step - loss: 0.3805 - accuracy: 0.8000 - val_loss: 0.9738 - val_accuracy: 0.5650\n",
      "Epoch 82/100\n",
      "7/7 [==============================] - 13s 2s/step - loss: 0.3047 - accuracy: 0.8650 - val_loss: 0.9791 - val_accuracy: 0.5350\n",
      "Epoch 83/100\n",
      "7/7 [==============================] - 12s 2s/step - loss: 0.3128 - accuracy: 0.8450 - val_loss: 1.0962 - val_accuracy: 0.5650\n",
      "Epoch 84/100\n",
      "7/7 [==============================] - 12s 2s/step - loss: 0.3065 - accuracy: 0.8750 - val_loss: 1.0738 - val_accuracy: 0.6000\n",
      "Epoch 85/100\n",
      "7/7 [==============================] - 11s 2s/step - loss: 0.2786 - accuracy: 0.8600 - val_loss: 1.0597 - val_accuracy: 0.5600\n",
      "Epoch 86/100\n",
      "7/7 [==============================] - 13s 2s/step - loss: 0.2620 - accuracy: 0.8800 - val_loss: 1.0963 - val_accuracy: 0.5700\n",
      "Epoch 87/100\n",
      "7/7 [==============================] - 11s 2s/step - loss: 0.2621 - accuracy: 0.8650 - val_loss: 1.2078 - val_accuracy: 0.5800\n",
      "Epoch 88/100\n",
      "7/7 [==============================] - 12s 2s/step - loss: 0.3133 - accuracy: 0.8750 - val_loss: 1.1843 - val_accuracy: 0.5900\n",
      "Epoch 89/100\n",
      "7/7 [==============================] - 13s 2s/step - loss: 0.3597 - accuracy: 0.8400 - val_loss: 1.0252 - val_accuracy: 0.5650\n",
      "Epoch 90/100\n",
      "7/7 [==============================] - 13s 2s/step - loss: 0.2822 - accuracy: 0.8850 - val_loss: 1.0674 - val_accuracy: 0.5900\n",
      "Epoch 91/100\n",
      "7/7 [==============================] - 12s 2s/step - loss: 0.2668 - accuracy: 0.8750 - val_loss: 1.1130 - val_accuracy: 0.5650\n",
      "Epoch 92/100\n",
      "7/7 [==============================] - 11s 2s/step - loss: 0.2953 - accuracy: 0.8800 - val_loss: 1.1074 - val_accuracy: 0.5850\n",
      "Epoch 93/100\n",
      "7/7 [==============================] - 11s 2s/step - loss: 0.2167 - accuracy: 0.9050 - val_loss: 1.0605 - val_accuracy: 0.5800\n",
      "Epoch 94/100\n",
      "7/7 [==============================] - 13s 2s/step - loss: 0.2425 - accuracy: 0.8900 - val_loss: 1.2249 - val_accuracy: 0.6100\n",
      "Epoch 95/100\n",
      "7/7 [==============================] - 10s 2s/step - loss: 0.2193 - accuracy: 0.9150 - val_loss: 1.2058 - val_accuracy: 0.5850\n",
      "Epoch 96/100\n",
      "7/7 [==============================] - 10s 1s/step - loss: 0.2801 - accuracy: 0.8700 - val_loss: 1.1637 - val_accuracy: 0.5800\n",
      "Epoch 97/100\n",
      "7/7 [==============================] - 12s 2s/step - loss: 0.2726 - accuracy: 0.8650 - val_loss: 1.1045 - val_accuracy: 0.6050\n",
      "Epoch 98/100\n",
      "7/7 [==============================] - 11s 2s/step - loss: 0.2557 - accuracy: 0.8950 - val_loss: 1.1319 - val_accuracy: 0.6000\n",
      "Epoch 99/100\n",
      "7/7 [==============================] - 10s 2s/step - loss: 0.3214 - accuracy: 0.8550 - val_loss: 1.0878 - val_accuracy: 0.5900\n",
      "Epoch 100/100\n",
      "7/7 [==============================] - 12s 2s/step - loss: 0.2581 - accuracy: 0.8800 - val_loss: 1.0137 - val_accuracy: 0.5950\n"
     ]
    }
   ],
   "source": [
    "r = model.fit_generator(\n",
    "  training_set,\n",
    "  validation_data=test_set,\n",
    "  epochs=100,\n",
    "  steps_per_epoch=len(training_set),\n",
    "  validation_steps=len(test_set)\n",
    ")"
   ]
  },
  {
   "cell_type": "code",
   "execution_count": 18,
   "id": "4fe5931a",
   "metadata": {},
   "outputs": [
    {
     "data": {
      "image/png": "[encoded data removed]",
      "text/plain": [
       "<Figure size 432x288 with 1 Axes>"
      ]
     },
     "metadata": {
      "needs_background": "light"
     },
     "output_type": "display_data"
    },
    {
     "data": {
      "image/png": "[encoded data removed]",
      "text/plain": [
       "<Figure size 432x288 with 1 Axes>"
      ]
     },
     "metadata": {
      "needs_background": "light"
     },
     "output_type": "display_data"
    },
    {
     "data": {
      "text/plain": [
       "<Figure size 432x288 with 0 Axes>"
      ]
     },
     "metadata": {},
     "output_type": "display_data"
    }
   ],
   "source": [
    "# plot the loss\n",
    "plt.plot(r.history['loss'], label='train loss')\n",
    "plt.plot(r.history['val_loss'], label='val loss')\n",
    "plt.legend()\n",
    "plt.show()\n",
    "plt.savefig('LossVal_loss')\n",
    "\n",
    "# plot the accuracy\n",
    "plt.plot(r.history['accuracy'], label='train acc')\n",
    "plt.plot(r.history['val_accuracy'], label='val acc')\n",
    "plt.legend()\n",
    "plt.show()\n",
    "plt.savefig('AccVal_acc')"
   ]
  },
  {
   "cell_type": "code",
   "execution_count": 19,
   "id": "24e938c7",
   "metadata": {},
   "outputs": [],
   "source": [
    "from tensorflow.keras.models import load_model\n",
    "\n",
    "model.save('model_vgg19.h5')"
   ]
  },
  {
   "cell_type": "code",
   "execution_count": 20,
   "id": "5cfe9f8e",
   "metadata": {},
   "outputs": [
    {
     "name": "stdout",
     "output_type": "stream",
     "text": [
      "7/7 [==============================] - 4s 489ms/step\n"
     ]
    }
   ],
   "source": [
    "y_pred = model.predict(test_set)"
   ]
  },
  {
   "cell_type": "code",
   "execution_count": 21,
   "id": "dab8bbaa",
   "metadata": {},
   "outputs": [
    {
     "data": {
      "text/plain": [
       "array([[9.16285634e-01, 8.37143809e-02],\n",
       "       [1.37994230e-01, 8.62005830e-01],\n",
       "       [1.45405665e-01, 8.54594290e-01],\n",
       "       [3.62899721e-01, 6.37100279e-01],\n",
       "       [9.02941916e-03, 9.90970612e-01],\n",
       "       [1.07568137e-01, 8.92431855e-01],\n",
       "       [1.17824100e-01, 8.82175922e-01],\n",
       "       [4.75192010e-01, 5.24807990e-01],\n",
       "       [1.52554375e-03, 9.98474419e-01],\n",
       "       [4.38084930e-01, 5.61915040e-01],\n",
       "       [4.08777647e-04, 9.99591291e-01],\n",
       "       [7.72560537e-01, 2.27439523e-01],\n",
       "       [4.31753658e-02, 9.56824660e-01],\n",
       "       [3.97324324e-01, 6.02675676e-01],\n",
       "       [6.01596311e-02, 9.39840376e-01],\n",
       "       [3.58972698e-02, 9.64102745e-01],\n",
       "       [7.60935321e-02, 9.23906505e-01],\n",
       "       [9.27421689e-01, 7.25782961e-02],\n",
       "       [9.04579520e-01, 9.54204798e-02],\n",
       "       [5.72437719e-02, 9.42756236e-01],\n",
       "       [8.53409648e-01, 1.46590397e-01],\n",
       "       [1.24013774e-01, 8.75986218e-01],\n",
       "       [3.54948230e-02, 9.64505136e-01],\n",
       "       [9.95175958e-01, 4.82403673e-03],\n",
       "       [8.22977722e-01, 1.77022249e-01],\n",
       "       [6.15511477e-01, 3.84488463e-01],\n",
       "       [9.15147923e-03, 9.90848541e-01],\n",
       "       [6.96395636e-01, 3.03604305e-01],\n",
       "       [1.19997367e-01, 8.80002677e-01],\n",
       "       [6.59049153e-01, 3.40950847e-01],\n",
       "       [5.98298013e-01, 4.01702076e-01],\n",
       "       [1.74104765e-01, 8.25895250e-01],\n",
       "       [3.69180828e-01, 6.30819142e-01],\n",
       "       [9.46713209e-01, 5.32867946e-02],\n",
       "       [2.83231260e-04, 9.99716699e-01],\n",
       "       [8.72945130e-01, 1.27054900e-01],\n",
       "       [3.24827731e-02, 9.67517257e-01],\n",
       "       [3.93014759e-01, 6.06985152e-01],\n",
       "       [9.67997670e-01, 3.20022926e-02],\n",
       "       [1.75347626e-01, 8.24652374e-01],\n",
       "       [2.30314601e-02, 9.76968586e-01],\n",
       "       [3.35971446e-04, 9.99664068e-01],\n",
       "       [3.74231115e-02, 9.62576866e-01],\n",
       "       [1.44002929e-01, 8.55997086e-01],\n",
       "       [6.43110931e-01, 3.56889069e-01],\n",
       "       [4.63162035e-01, 5.36837995e-01],\n",
       "       [9.98264849e-01, 1.73519063e-03],\n",
       "       [3.20038170e-01, 6.79961801e-01],\n",
       "       [1.99350998e-01, 8.00649047e-01],\n",
       "       [9.65280950e-01, 3.47190835e-02],\n",
       "       [9.00987029e-01, 9.90130156e-02],\n",
       "       [3.71611446e-01, 6.28388584e-01],\n",
       "       [2.92229921e-01, 7.07770050e-01],\n",
       "       [3.55700314e-01, 6.44299686e-01],\n",
       "       [9.98461723e-01, 1.53830752e-03],\n",
       "       [6.33421898e-01, 3.66578013e-01],\n",
       "       [2.46637046e-05, 9.99975324e-01],\n",
       "       [7.95093477e-01, 2.04906538e-01],\n",
       "       [1.18989106e-02, 9.88101125e-01],\n",
       "       [2.25229695e-01, 7.74770260e-01],\n",
       "       [5.98740056e-02, 9.40126002e-01],\n",
       "       [5.23251891e-01, 4.76748079e-01],\n",
       "       [9.93998289e-01, 6.00171229e-03],\n",
       "       [2.08882091e-04, 9.99791086e-01],\n",
       "       [5.52262902e-01, 4.47737187e-01],\n",
       "       [9.69538391e-01, 3.04615963e-02],\n",
       "       [4.86553945e-02, 9.51344669e-01],\n",
       "       [1.19545520e-03, 9.98804569e-01],\n",
       "       [8.41934010e-02, 9.15806592e-01],\n",
       "       [8.25255215e-01, 1.74744785e-01],\n",
       "       [9.66561586e-02, 9.03343856e-01],\n",
       "       [5.37244022e-01, 4.62755919e-01],\n",
       "       [4.06246632e-01, 5.93753338e-01],\n",
       "       [7.05550194e-01, 2.94449776e-01],\n",
       "       [4.21161890e-01, 5.78838050e-01],\n",
       "       [6.29345775e-01, 3.70654255e-01],\n",
       "       [9.99148011e-01, 8.51923483e-04],\n",
       "       [3.83173078e-01, 6.16826892e-01],\n",
       "       [8.07269514e-01, 1.92730486e-01],\n",
       "       [1.69501472e-02, 9.83049810e-01],\n",
       "       [6.99586809e-01, 3.00413281e-01],\n",
       "       [6.34546066e-03, 9.93654490e-01],\n",
       "       [9.54120576e-01, 4.58794795e-02],\n",
       "       [6.27720635e-03, 9.93722737e-01],\n",
       "       [7.03404009e-01, 2.96595991e-01],\n",
       "       [5.53930044e-01, 4.46069956e-01],\n",
       "       [9.66524482e-01, 3.34755406e-02],\n",
       "       [2.03453347e-01, 7.96546638e-01],\n",
       "       [4.40148450e-02, 9.55985129e-01],\n",
       "       [9.45357203e-01, 5.46428487e-02],\n",
       "       [2.87585884e-01, 7.12414145e-01],\n",
       "       [9.77594674e-01, 2.24053692e-02],\n",
       "       [3.23091179e-01, 6.76908731e-01],\n",
       "       [5.44304430e-01, 4.55695599e-01],\n",
       "       [5.09055734e-01, 4.90944266e-01],\n",
       "       [1.37494668e-01, 8.62505376e-01],\n",
       "       [5.62821209e-01, 4.37178850e-01],\n",
       "       [5.99290058e-03, 9.94007111e-01],\n",
       "       [8.87691736e-01, 1.12308264e-01],\n",
       "       [9.37628793e-05, 9.99906182e-01],\n",
       "       [2.85774112e-01, 7.14225888e-01],\n",
       "       [2.66026765e-01, 7.33973265e-01],\n",
       "       [1.30133137e-01, 8.69866848e-01],\n",
       "       [2.54994165e-02, 9.74500537e-01],\n",
       "       [7.19988644e-01, 2.80011386e-01],\n",
       "       [4.34349990e-03, 9.95656490e-01],\n",
       "       [8.41849029e-01, 1.58150926e-01],\n",
       "       [6.37939990e-01, 3.62059981e-01],\n",
       "       [6.99317992e-01, 3.00682008e-01],\n",
       "       [7.68990740e-02, 9.23100948e-01],\n",
       "       [9.78777409e-01, 2.12225858e-02],\n",
       "       [2.58371651e-01, 7.41628349e-01],\n",
       "       [9.22120363e-03, 9.90778804e-01],\n",
       "       [1.19579248e-01, 8.80420685e-01],\n",
       "       [2.16031335e-02, 9.78396833e-01],\n",
       "       [1.88361987e-01, 8.11637998e-01],\n",
       "       [6.86145842e-01, 3.13854158e-01],\n",
       "       [7.02725470e-01, 2.97274530e-01],\n",
       "       [9.99885440e-01, 1.14569659e-04],\n",
       "       [9.95425761e-01, 4.57427278e-03],\n",
       "       [8.03021714e-03, 9.91969764e-01],\n",
       "       [4.00062650e-02, 9.59993780e-01],\n",
       "       [1.13701960e-02, 9.88629818e-01],\n",
       "       [9.88988698e-01, 1.10112596e-02],\n",
       "       [9.20071959e-01, 7.99280703e-02],\n",
       "       [2.67110467e-01, 7.32889533e-01],\n",
       "       [9.76805449e-01, 2.31944937e-02],\n",
       "       [2.10746527e-02, 9.78925347e-01],\n",
       "       [2.74239093e-01, 7.25760996e-01],\n",
       "       [6.27420366e-01, 3.72579604e-01],\n",
       "       [4.91305321e-01, 5.08694649e-01],\n",
       "       [1.74625993e-01, 8.25374007e-01],\n",
       "       [5.41936338e-01, 4.58063602e-01],\n",
       "       [6.67874694e-01, 3.32125217e-01],\n",
       "       [3.31748098e-01, 6.68251872e-01],\n",
       "       [8.38100970e-01, 1.61899015e-01],\n",
       "       [4.52291310e-01, 5.47708631e-01],\n",
       "       [2.18612578e-04, 9.99781430e-01],\n",
       "       [7.22368836e-01, 2.77631164e-01],\n",
       "       [2.52155900e-01, 7.47844040e-01],\n",
       "       [2.28709102e-01, 7.71290958e-01],\n",
       "       [8.15941572e-01, 1.84058428e-01],\n",
       "       [1.96391538e-01, 8.03608418e-01],\n",
       "       [8.82698417e-01, 1.17301546e-01],\n",
       "       [4.11346108e-01, 5.88653922e-01],\n",
       "       [8.20226431e-01, 1.79773644e-01],\n",
       "       [3.01174849e-01, 6.98825181e-01],\n",
       "       [9.87674832e-01, 1.23251723e-02],\n",
       "       [6.59032345e-01, 3.40967625e-01],\n",
       "       [3.64796877e-01, 6.35203123e-01],\n",
       "       [3.62804793e-02, 9.63719547e-01],\n",
       "       [9.47015762e-01, 5.29842637e-02],\n",
       "       [1.12958299e-02, 9.88704145e-01],\n",
       "       [9.31329966e-01, 6.86700344e-02],\n",
       "       [1.05903804e-01, 8.94096196e-01],\n",
       "       [2.69821376e-01, 7.30178595e-01],\n",
       "       [5.49814254e-02, 9.45018589e-01],\n",
       "       [3.94284368e-01, 6.05715632e-01],\n",
       "       [8.70428264e-01, 1.29571751e-01],\n",
       "       [1.49257794e-01, 8.50742161e-01],\n",
       "       [6.62030512e-03, 9.93379712e-01],\n",
       "       [5.00383198e-01, 4.99616802e-01],\n",
       "       [1.14758648e-01, 8.85241330e-01],\n",
       "       [2.56941170e-01, 7.43058801e-01],\n",
       "       [5.04280269e-01, 4.95719790e-01],\n",
       "       [4.01332319e-01, 5.98667741e-01],\n",
       "       [5.61222494e-01, 4.38777536e-01],\n",
       "       [2.19519705e-01, 7.80480325e-01],\n",
       "       [9.69372988e-01, 3.06269415e-02],\n",
       "       [2.11674254e-03, 9.97883260e-01],\n",
       "       [5.62566519e-01, 4.37433481e-01],\n",
       "       [1.00000000e+00, 3.64775328e-11],\n",
       "       [9.20512795e-01, 7.94872418e-02],\n",
       "       [1.46809995e-01, 8.53190064e-01],\n",
       "       [5.81685364e-01, 4.18314606e-01],\n",
       "       [1.84730832e-02, 9.81526911e-01],\n",
       "       [7.95643866e-01, 2.04356104e-01],\n",
       "       [2.23461375e-01, 7.76538610e-01],\n",
       "       [9.71289098e-01, 2.87109353e-02],\n",
       "       [3.35248888e-01, 6.64751172e-01],\n",
       "       [1.06349595e-01, 8.93650413e-01],\n",
       "       [3.48022848e-04, 9.99652028e-01],\n",
       "       [9.86132145e-01, 1.38678867e-02],\n",
       "       [3.73865403e-02, 9.62613404e-01],\n",
       "       [2.02707220e-02, 9.79729295e-01],\n",
       "       [3.33520949e-01, 6.66479051e-01],\n",
       "       [7.34394789e-01, 2.65605271e-01],\n",
       "       [5.40977120e-01, 4.59022820e-01],\n",
       "       [4.32029098e-01, 5.67970872e-01],\n",
       "       [7.71297693e-01, 2.28702337e-01],\n",
       "       [7.61688769e-01, 2.38311246e-01],\n",
       "       [1.30604073e-01, 8.69395912e-01],\n",
       "       [9.94514704e-01, 5.48529066e-03],\n",
       "       [5.88697553e-01, 4.11302447e-01],\n",
       "       [9.73729789e-02, 9.02626991e-01],\n",
       "       [7.46648237e-02, 9.25335228e-01],\n",
       "       [1.02706281e-02, 9.89729404e-01],\n",
       "       [2.84467161e-01, 7.15532839e-01],\n",
       "       [8.81325901e-02, 9.11867440e-01],\n",
       "       [6.94986045e-01, 3.05013955e-01]], dtype=float32)"
      ]
     },
     "execution_count": 21,
     "metadata": {},
     "output_type": "execute_result"
    }
   ],
   "source": [
    "y_pred"
   ]
  },
  {
   "cell_type": "code",
   "execution_count": 22,
   "id": "3938b0ad",
   "metadata": {},
   "outputs": [],
   "source": [
    "import numpy as np\n",
    "y_pred = np.argmax(y_pred, axis=1)"
   ]
  },
  {
   "cell_type": "code",
   "execution_count": 23,
   "id": "98cc3d00",
   "metadata": {},
   "outputs": [
    {
     "data": {
      "text/plain": [
       "array([0, 1, 1, 1, 1, 1, 1, 1, 1, 1, 1, 0, 1, 1, 1, 1, 1, 0, 0, 1, 0, 1,\n",
       "       1, 0, 0, 0, 1, 0, 1, 0, 0, 1, 1, 0, 1, 0, 1, 1, 0, 1, 1, 1, 1, 1,\n",
       "       0, 1, 0, 1, 1, 0, 0, 1, 1, 1, 0, 0, 1, 0, 1, 1, 1, 0, 0, 1, 0, 0,\n",
       "       1, 1, 1, 0, 1, 0, 1, 0, 1, 0, 0, 1, 0, 1, 0, 1, 0, 1, 0, 0, 0, 1,\n",
       "       1, 0, 1, 0, 1, 0, 0, 1, 0, 1, 0, 1, 1, 1, 1, 1, 0, 1, 0, 0, 0, 1,\n",
       "       0, 1, 1, 1, 1, 1, 0, 0, 0, 0, 1, 1, 1, 0, 0, 1, 0, 1, 1, 0, 1, 1,\n",
       "       0, 0, 1, 0, 1, 1, 0, 1, 1, 0, 1, 0, 1, 0, 1, 0, 0, 1, 1, 0, 1, 0,\n",
       "       1, 1, 1, 1, 0, 1, 1, 0, 1, 1, 0, 1, 0, 1, 0, 1, 0, 0, 0, 1, 0, 1,\n",
       "       0, 1, 0, 1, 1, 1, 0, 1, 1, 1, 0, 0, 1, 0, 0, 1, 0, 0, 1, 1, 1, 1,\n",
       "       1, 0], dtype=int64)"
      ]
     },
     "execution_count": 23,
     "metadata": {},
     "output_type": "execute_result"
    }
   ],
   "source": [
    "y_pred"
   ]
  },
  {
   "cell_type": "code",
   "execution_count": 24,
   "id": "b382ce3a",
   "metadata": {},
   "outputs": [],
   "source": [
    "from tensorflow.keras.models import load_model\n",
    "from tensorflow.keras.preprocessing import image"
   ]
  },
  {
   "cell_type": "code",
   "execution_count": 25,
   "id": "9b4b9676",
   "metadata": {},
   "outputs": [],
   "source": [
    "model=load_model('model_vgg19.h5')"
   ]
  },
  {
   "cell_type": "code",
   "execution_count": 103,
   "id": "80bec055",
   "metadata": {},
   "outputs": [],
   "source": [
    "img=image.load_img('validation_dataset/infected/validation_image_9.png',target_size=(224,224))"
   ]
  },
  {
   "cell_type": "code",
   "execution_count": 104,
   "id": "1b4a67d3",
   "metadata": {},
   "outputs": [
    {
     "data": {
      "text/plain": [
       "array([[[ 9.,  9.,  9.],\n",
       "        [10., 10., 10.],\n",
       "        [ 9.,  9.,  9.],\n",
       "        ...,\n",
       "        [ 9.,  9.,  9.],\n",
       "        [ 9.,  9.,  9.],\n",
       "        [ 9.,  9.,  9.]],\n",
       "\n",
       "       [[ 8.,  8.,  8.],\n",
       "        [ 9.,  9.,  9.],\n",
       "        [ 9.,  9.,  9.],\n",
       "        ...,\n",
       "        [ 8.,  8.,  8.],\n",
       "        [ 9.,  9.,  9.],\n",
       "        [ 9.,  9.,  9.]],\n",
       "\n",
       "       [[ 8.,  8.,  8.],\n",
       "        [ 9.,  9.,  9.],\n",
       "        [ 9.,  9.,  9.],\n",
       "        ...,\n",
       "        [ 9.,  9.,  9.],\n",
       "        [ 9.,  9.,  9.],\n",
       "        [11., 11., 11.]],\n",
       "\n",
       "       ...,\n",
       "\n",
       "       [[ 1.,  1.,  1.],\n",
       "        [20., 20., 20.],\n",
       "        [14., 14., 14.],\n",
       "        ...,\n",
       "        [59., 59., 59.],\n",
       "        [73., 73., 73.],\n",
       "        [80., 80., 80.]],\n",
       "\n",
       "       [[ 3.,  3.,  3.],\n",
       "        [29., 29., 29.],\n",
       "        [21., 21., 21.],\n",
       "        ...,\n",
       "        [62., 62., 62.],\n",
       "        [74., 74., 74.],\n",
       "        [86., 86., 86.]],\n",
       "\n",
       "       [[ 3.,  3.,  3.],\n",
       "        [44., 44., 44.],\n",
       "        [35., 35., 35.],\n",
       "        ...,\n",
       "        [62., 62., 62.],\n",
       "        [74., 74., 74.],\n",
       "        [85., 85., 85.]]], dtype=float32)"
      ]
     },
     "execution_count": 104,
     "metadata": {},
     "output_type": "execute_result"
    }
   ],
   "source": [
    "x=image.img_to_array(img)\n",
    "x"
   ]
  },
  {
   "cell_type": "code",
   "execution_count": 105,
   "id": "9fb76884",
   "metadata": {},
   "outputs": [
    {
     "data": {
      "text/plain": [
       "(224, 224, 3)"
      ]
     },
     "execution_count": 105,
     "metadata": {},
     "output_type": "execute_result"
    }
   ],
   "source": [
    "x.shape"
   ]
  },
  {
   "cell_type": "code",
   "execution_count": 106,
   "id": "788c46ae",
   "metadata": {},
   "outputs": [
    {
     "data": {
      "text/plain": [
       "(1, 224, 224, 3)"
      ]
     },
     "execution_count": 106,
     "metadata": {},
     "output_type": "execute_result"
    }
   ],
   "source": [
    "x=x/255\n",
    "x=np.expand_dims(x,axis=0)\n",
    "img_data=preprocess_input(x)\n",
    "img_data.shape"
   ]
  },
  {
   "cell_type": "code",
   "execution_count": 107,
   "id": "7532cd00",
   "metadata": {},
   "outputs": [
    {
     "name": "stdout",
     "output_type": "stream",
     "text": [
      "1/1 [==============================] - 0s 28ms/step\n"
     ]
    },
    {
     "data": {
      "text/plain": [
       "array([[0., 1.]], dtype=float32)"
      ]
     },
     "execution_count": 107,
     "metadata": {},
     "output_type": "execute_result"
    }
   ],
   "source": [
    "model.predict(img_data)"
   ]
  },
  {
   "cell_type": "code",
   "execution_count": 108,
   "id": "20f4a922",
   "metadata": {},
   "outputs": [
    {
     "name": "stdout",
     "output_type": "stream",
     "text": [
      "1/1 [==============================] - 0s 34ms/step\n"
     ]
    }
   ],
   "source": [
    "a=np.argmax(model.predict(img_data), axis=1)"
   ]
  },
  {
   "cell_type": "code",
   "execution_count": 109,
   "id": "eec0af04",
   "metadata": {},
   "outputs": [
    {
     "name": "stdout",
     "output_type": "stream",
     "text": [
      "uninfected\n"
     ]
    }
   ],
   "source": [
    "if(a==1):\n",
    "    print(\"uninfected\")\n",
    "else:\n",
    "    print(\"infected\")"
   ]
  },
  {
   "cell_type": "code",
   "execution_count": null,
   "id": "b3730964",
   "metadata": {},
   "outputs": [],
   "source": []
  },
  {
   "cell_type": "code",
   "execution_count": null,
   "id": "0837ceaf",
   "metadata": {},
   "outputs": [],
   "source": []
  }
 ],
 "metadata": {
  "kernelspec": {
   "display_name": "Python 3 (ipykernel)",
   "language": "python",
   "name": "python3"
  },
  "language_info": {
   "codemirror_mode": {
    "name": "ipython",
    "version": 3
   },
   "file_extension": ".py",
   "mimetype": "text/x-python",
   "name": "python",
   "nbconvert_exporter": "python",
   "pygments_lexer": "ipython3",
   "version": "3.8.3"
  }
 },
 "nbformat": 4,
 "nbformat_minor": 5
}
